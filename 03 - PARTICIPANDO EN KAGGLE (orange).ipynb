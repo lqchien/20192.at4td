{
 "cells": [
  {
   "cell_type": "markdown",
   "metadata": {},
   "source": [
    "## Practice 1. Model selection\n",
    "\n",
    "Register at [Kaggle](www.kaggle.com) and download the [Titanic Challenge data](https://www.kaggle.com/c/titanic) .\n",
    "\n",
    "**Part 1**\n",
    "- There are missing data, data that needs transformation, etc.\n",
    "- Download first **train data** and use a **Data/Select Columns** to (1) define the target variable and (2) remove the passengerId column\n",
    "- use **Data/Feature Statistics** to understand columns, missing data, etc.\n",
    "- Use a **Data/Impute** to fix the missing data in _Age_ with some criteria as described in the Data/impute dialog\n",
    "- Use cross validation/ROC curves to choose the best model\n",
    "\n",
    "**Part 2**\n",
    "- Train the selected model with **ALL** the train data\n",
    "- Save the model\n",
    "\n",
    "You should have a workflow similar to this one:\n",
    "\n",
    "![imgs/titanic-model-selection.png](imgs/titanic-model-selection.png)\n",
    "\n",
    "## Practice 2. Submit to Kaggle\n",
    "\n",
    "\n",
    "We will now use the saved model to predict survival on the **TEST** data. Understand Kaggle submission rules for this competition. Observe the **Save Data** widget.\n",
    "\n",
    "**IMPORTANT!!!**: Leave the _passanger id_ column as metadata so that it is available for saving\n",
    "\n",
    "Once the data is saved. You will have to **open the file as a spreadsheet** and format the data how Kaggle wants it.\n",
    "\n",
    "Your workshop should look like this\n",
    "\n",
    "\n",
    "![g](imgs/titanic-model-predictions.png)\n"
   ]
  },
  {
   "cell_type": "code",
   "execution_count": null,
   "metadata": {},
   "outputs": [],
   "source": []
  },
  {
   "cell_type": "code",
   "execution_count": null,
   "metadata": {},
   "outputs": [],
   "source": []
  }
 ],
 "metadata": {
  "kernelspec": {
   "display_name": "p37",
   "language": "python",
   "name": "python3"
  },
  "language_info": {
   "codemirror_mode": {
    "name": "ipython",
    "version": 3
   },
   "file_extension": ".py",
   "mimetype": "text/x-python",
   "name": "python",
   "nbconvert_exporter": "python",
   "pygments_lexer": "ipython3",
   "version": "3.7.3"
  }
 },
 "nbformat": 4,
 "nbformat_minor": 2
}
